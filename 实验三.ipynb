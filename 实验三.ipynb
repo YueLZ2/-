{
 "cells": [
  {
   "cell_type": "markdown",
   "source": [
    "### 任务一"
   ],
   "metadata": {
    "collapsed": false
   }
  },
  {
   "cell_type": "code",
   "execution_count": null,
   "outputs": [],
   "source": [
    "import torch\n",
    "import numpy as np\n",
    "\n",
    "\n",
    "class Net(torch.nn.Module):\n",
    "    def forward(self, x):\n",
    "        # 第一层神经网络\n",
    "        z1 = 2 * x[0] + x[1]\n",
    "        z2 = x[0] * 3 * x[2]\n",
    "        z3 = -x[2]\n",
    "        # 第二层神经网络\n",
    "        u1 = u1 = torch.sin(z1)\n",
    "        u2 = 2 * x[2] + z2\n",
    "        u3 = 2 * z1 + z3\n",
    "        # 第三层神经网络\n",
    "        v1 = u1-u3\n",
    "        v2 = torch.sin(-u2)\n",
    "        v3 = u1 * u3\n",
    "        # 计算y1/y2\n",
    "        y1 = v1 ** 2 + v2 ** 2\n",
    "        y2 = v2 * v3\n",
    "        return y1, y2\n",
    "\n",
    "\n",
    "x = torch.tensor([1, 2, 0],dtype=torch.float, requires_grad=True)\n",
    "model = Net()\n",
    "\n",
    "y1, y2 = model(x)\n",
    "\n",
    "# 分别对 y1 和 y2 执行反向传播\n",
    "y1.backward(retain_graph=True)\n",
    "print(x.grad)\n",
    "x.grad.zero_()  # 清空梯度\n",
    "y2.backward()\n",
    "\n",
    "# 查看输入 x 的梯度\n",
    "print(x.grad)"
   ],
   "metadata": {
    "collapsed": false
   }
  },
  {
   "cell_type": "markdown",
   "source": [
    "###"
   ],
   "metadata": {
    "collapsed": false
   }
  },
  {
   "cell_type": "code",
   "execution_count": 22,
   "outputs": [],
   "source": [
    "import numpy as np\n",
    "\n",
    "class Computational_Graph:\n",
    "    def __init__(self) -> None:\n",
    "        self.x1 = 0\n",
    "        self.x2 = 0\n",
    "        self.x3 = 0\n",
    "         # 局部函数\n",
    "        self.z1=0\n",
    "        self.z2=0\n",
    "        self.z3=0\n",
    "        self.z4=0 #  加入虚拟节点\n",
    "\n",
    "        self.u1=0\n",
    "        self.u2=0\n",
    "        self.u3=0\n",
    "\n",
    "        self.v1=0\n",
    "        self.v2=0\n",
    "        self.v3=0\n",
    "\n",
    "        self.y1=0\n",
    "        self.y2=0\n",
    "\n",
    "    def forward(self, x1, x2, x3):\n",
    "        self.x1 = x1\n",
    "        self.x2 = x2\n",
    "        self.x3 = x3\n",
    "        # 在前向传播函数中使用权重和偏差进行计算\n",
    "        self.z1 = 2*self.x1 + self.x2\n",
    "        self.z2 = self.x1 * self.x3*3\n",
    "        self.z3 = -self.x3\n",
    "        self.z4 = self.x3    # 加入虚拟节点z4\n",
    "\n",
    "        self.u1 = np.sin(self.z1)\n",
    "        self.u2 = 2 * self.z4 + self.z2\n",
    "        self.u3 = 2 * self.z1 + self.z3\n",
    "\n",
    "        self.v1 = self.u1 - self.u3\n",
    "        self.v2 = np.sin(-self.u2)\n",
    "        self.v3 = self.u1 * self.u3\n",
    "\n",
    "        y1 = self.v1 ** 2 + self.v2 ** 3\n",
    "        y2 = self.v2 * self.v3\n",
    "\n",
    "        return  y1, y2\n",
    "\n",
    "\n",
    "    def backward(self):\n",
    "        # # 在反向传播函数中完成梯度的计算\n",
    "        # # 根据链式法则计算各个梯度\n",
    "        dy1_dv1 = 2 * self.v1\n",
    "        dy1_dv2 = 3 * (self.v2 ** 2)\n",
    "        dy2_dv2 = self.v3\n",
    "        dy2_dv3 = self.v2\n",
    "\n",
    "        # # 通过链式法则计算最终的梯度\n",
    "        dv_du = np.array([\n",
    "            [1, 0, -1],       # dv1/du1, dv1/du2, dv1/du3\n",
    "            [0, -np.cos(-self.u2), 0],  # dv2/du1, dv2/du2, dv2/du3\n",
    "            [self.u3, 0, self.u1]     # dv3/du1, dv3/du2, dv3/du3\n",
    "        ])\n",
    "\n",
    "        # Gradient matrix for u to z\n",
    "        du_dz = np.array([\n",
    "            [np.cos(self.z1), 0, 0, 0],   # du1/dz1, du1/dz2, du1/dz3, du1/dz4\n",
    "            [0, 1, 0, 2],             # du2/dz1, du2/dz2, du2/dz3, du2/dz4\n",
    "            [2, 0, 1, 0]              # du3/dz1, du3/dz2, du3/dz3,du3/dz4\n",
    "        ])\n",
    "\n",
    "        # Gradient matrix for z to x\n",
    "        dz_dx = np.array([\n",
    "            [2, 1, 0],            # dz1/dx1, dz1/dx2, dz1/dx3\n",
    "            [3 * self.x3, 0, 3 * self.x1],  # dz2/dx1, dz2/dx2, dz2/dx3\n",
    "            [0, 0, -1],           # dz3/dx1, dz3/dx2, dz3/dx3\n",
    "            [0, 0, 1]             # dz4/dx1, dz4/dx2, dz4/dx3\n",
    "        ])\n",
    "\n",
    "        dy1_dx = dz_dx.T @ du_dz.T @ dv_du.T @ [[dy1_dv1], [dy1_dv2], [0]]\n",
    "        dy2_dx = dz_dx.T @ du_dz.T @ dv_du.T @ [[0], [dy2_dv2], [dy2_dv3]]\n",
    "\n",
    "        return dy1_dx, dy2_dx\n"
   ],
   "metadata": {
    "collapsed": false
   }
  },
  {
   "cell_type": "code",
   "execution_count": 23,
   "outputs": [
    {
     "name": "stdout",
     "output_type": "stream",
     "text": [
      "64.08711522201764 -6.078667517564844\n",
      "Gradients: (array([[ 45.24866101],\n",
      "       [ 27.32040539],\n",
      "       [-24.26642612]]), array([[25.74837188],\n",
      "       [ 0.06138621],\n",
      "       [23.6466917 ]]))\n"
     ]
    }
   ],
   "source": [
    "# 使用示例\n",
    "graph = Computational_Graph()\n",
    "y1, y2= graph.forward(2, 1, 3)\n",
    "print(y1, y2)\n",
    "gradients = graph.backward()\n",
    "print(\"Gradients:\", gradients)"
   ],
   "metadata": {
    "collapsed": false
   }
  },
  {
   "cell_type": "code",
   "execution_count": 24,
   "outputs": [
    {
     "name": "stdout",
     "output_type": "stream",
     "text": [
      "24.490479942112778 0.6766170068463221\n",
      "Gradients: (array([[ 55.76452115],\n",
      "       [ 29.05602944],\n",
      "       [-13.63032285]]), array([[-9.55244091],\n",
      "       [-4.47599238],\n",
      "       [-1.13608365]]))\n"
     ]
    }
   ],
   "source": [
    "graph = Computational_Graph()\n",
    "y1, y2= graph.forward(1, 1, 1)\n",
    "print(y1, y2)\n",
    "gradients = graph.backward()\n",
    "print(\"Gradients:\", gradients)"
   ],
   "metadata": {
    "collapsed": false
   }
  },
  {
   "cell_type": "markdown",
   "source": [],
   "metadata": {
    "collapsed": false
   }
  }
 ],
 "metadata": {
  "kernelspec": {
   "display_name": "Python 3",
   "language": "python",
   "name": "python3"
  },
  "language_info": {
   "codemirror_mode": {
    "name": "ipython",
    "version": 2
   },
   "file_extension": ".py",
   "mimetype": "text/x-python",
   "name": "python",
   "nbconvert_exporter": "python",
   "pygments_lexer": "ipython2",
   "version": "2.7.6"
  }
 },
 "nbformat": 4,
 "nbformat_minor": 0
}
